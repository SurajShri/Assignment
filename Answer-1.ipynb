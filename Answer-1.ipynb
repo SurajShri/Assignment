{
 "cells": [
  {
   "cell_type": "code",
   "execution_count": 27,
   "id": "9f3bda52",
   "metadata": {},
   "outputs": [
    {
     "name": "stdout",
     "output_type": "stream",
     "text": [
      "460987\n",
      "4,60,987\n"
     ]
    }
   ],
   "source": [
    "number = str(input())     \n",
    "a, *b = str(number).partition(\".\")\n",
    "p = \",\".join([a[x-2:x] for x in range(-3, -len(a), -2)][::-1] + [a[-3:]])\n",
    "Output=\"\".join([p] + b)\n",
    "print(Output)\n",
    "\n",
    "  \n"
   ]
  },
  {
   "cell_type": "markdown",
   "id": "ec5d7624",
   "metadata": {},
   "source": [
    "# Explaination-\n",
    "\n",
    "The function takes a number as input and splits it into parts using a period as the delimiter.\n",
    "\n",
    "3. The function then calculates the rupee value of the number using a formula and returns the result."
   ]
  },
  {
   "cell_type": "code",
   "execution_count": null,
   "id": "a5228abe",
   "metadata": {},
   "outputs": [],
   "source": []
  }
 ],
 "metadata": {
  "kernelspec": {
   "display_name": "Python 3 (ipykernel)",
   "language": "python",
   "name": "python3"
  },
  "language_info": {
   "codemirror_mode": {
    "name": "ipython",
    "version": 3
   },
   "file_extension": ".py",
   "mimetype": "text/x-python",
   "name": "python",
   "nbconvert_exporter": "python",
   "pygments_lexer": "ipython3",
   "version": "3.10.4"
  }
 },
 "nbformat": 4,
 "nbformat_minor": 5
}
